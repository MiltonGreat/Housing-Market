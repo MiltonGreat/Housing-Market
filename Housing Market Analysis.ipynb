{
 "cells": [
  {
   "cell_type": "markdown",
   "id": "7e115f0d-7d5b-42b7-a34c-3dd072f68a09",
   "metadata": {},
   "source": [
    "## Housing Market Analysis"
   ]
  },
  {
   "cell_type": "markdown",
   "id": "91f8cb69-0990-4ea9-b382-fd6dc8bfdcd4",
   "metadata": {},
   "source": [
    "As a real estate data analyst, the insights derived from this model can be very useful in various aspects of your business. "
   ]
  },
  {
   "cell_type": "markdown",
   "id": "266333c0-6bb3-406c-bba6-dbac7ba43c93",
   "metadata": {},
   "source": [
    "### How This Model Helps\n",
    "\n",
    "1. Price Prediction\n",
    "\n",
    "- With an improved R^2 score and reduced error, you can predict property prices more accurately. This can be valuable for real estate agents, investors, and developers when determining asking prices, setting budgets, or making investment decisions.\n",
    "\n",
    "2. Feature Importance\n",
    "\n",
    "- Understanding which features (like square footage) have the biggest impact on price allows you to prioritize those in your business decisions. For example, you could focus on increasing square footage or targeting properties with larger homes for more lucrative investments.\n",
    "\n",
    "3. Market Segmentation\n",
    "\n",
    "- You can segment the market based on predicted price ranges. This can help target specific demographics or locations more effectively. For example, if you know that square footage plays a big role in price, you could focus on larger properties that cater to specific buyers (e.g., families or luxury buyers).\n",
    "\n",
    "4. Investment Decisions\n",
    "\n",
    "The insights from this model can guide your investment strategy. If you know that square footage and certain neighborhoods are strongly correlated with higher prices, you can focus your investments on those types of properties for higher returns.\n",
    "\n",
    "5. Targeted Marketing\n",
    "\n",
    "By understanding which factors influence price, you can tailor your marketing efforts. For example, if you know that properties in urban areas with a certain size or layout are in high demand, you can focus marketing efforts on those."
   ]
  },
  {
   "cell_type": "code",
   "execution_count": 19,
   "id": "7e197dbf-d96e-4892-8896-1f3e8d363a22",
   "metadata": {},
   "outputs": [],
   "source": [
    "import zipfile\n",
    "import os\n",
    "import pandas as pd\n",
    "import numpy as np\n",
    "import matplotlib.pyplot as plt\n",
    "import seaborn as sns\n",
    "from sklearn.model_selection import train_test_split\n",
    "from sklearn.ensemble import RandomForestRegressor\n",
    "from sklearn.metrics import mean_squared_error, mean_absolute_error, r2_score"
   ]
  },
  {
   "cell_type": "code",
   "execution_count": 20,
   "id": "4751a3a7-45a5-4799-ba74-17a5fd5361a5",
   "metadata": {},
   "outputs": [
    {
     "name": "stdout",
     "output_type": "stream",
     "text": [
      "   SquareFeet  Bedrooms  Bathrooms Neighborhood  YearBuilt          Price\n",
      "0        2126         4          1        Rural       1969  215355.283618\n",
      "1        2459         3          2        Rural       1980  195014.221626\n",
      "2        1860         2          1       Suburb       1970  306891.012076\n",
      "3        2294         2          1        Urban       1996  206786.787153\n",
      "4        2130         5          2       Suburb       2001  272436.239065\n",
      "\n",
      "Data Types and Non-Null Counts:\n",
      "\n",
      "<class 'pandas.core.frame.DataFrame'>\n",
      "RangeIndex: 50000 entries, 0 to 49999\n",
      "Data columns (total 6 columns):\n",
      " #   Column        Non-Null Count  Dtype  \n",
      "---  ------        --------------  -----  \n",
      " 0   SquareFeet    50000 non-null  int64  \n",
      " 1   Bedrooms      50000 non-null  int64  \n",
      " 2   Bathrooms     50000 non-null  int64  \n",
      " 3   Neighborhood  50000 non-null  object \n",
      " 4   YearBuilt     50000 non-null  int64  \n",
      " 5   Price         50000 non-null  float64\n",
      "dtypes: float64(1), int64(4), object(1)\n",
      "memory usage: 2.3+ MB\n",
      "None\n",
      "\n",
      "Missing Values:\n",
      "\n",
      "SquareFeet      0\n",
      "Bedrooms        0\n",
      "Bathrooms       0\n",
      "Neighborhood    0\n",
      "YearBuilt       0\n",
      "Price           0\n",
      "dtype: int64\n",
      "\n",
      "Summary Statistics for Numerical Columns:\n",
      "\n",
      "         SquareFeet      Bedrooms     Bathrooms     YearBuilt          Price\n",
      "count  50000.000000  50000.000000  50000.000000  50000.000000   50000.000000\n",
      "mean    2006.374680      3.498700      1.995420   1985.404420  224827.325151\n",
      "std      575.513241      1.116326      0.815851     20.719377   76141.842966\n",
      "min     1000.000000      2.000000      1.000000   1950.000000  -36588.165397\n",
      "25%     1513.000000      3.000000      1.000000   1967.000000  169955.860225\n",
      "50%     2007.000000      3.000000      2.000000   1985.000000  225052.141166\n",
      "75%     2506.000000      4.000000      3.000000   2003.000000  279373.630052\n",
      "max     2999.000000      5.000000      3.000000   2021.000000  492195.259972\n",
      "\n",
      "Unique values in 'Neighborhood':\n",
      "['Rural' 'Suburb' 'Urban']\n",
      "\n",
      "Number of duplicate rows: 0\n"
     ]
    }
   ],
   "source": [
    "# Unzipping the file\n",
    "with zipfile.ZipFile('Housing_price.zip', 'r') as zip_ref:\n",
    "    zip_ref.extractall('Housing_price')\n",
    "\n",
    "# Get list of all files in the extracted folder\n",
    "file_list = os.listdir('Housing_price')\n",
    "\n",
    "# Load the first CSV file into a DataFrame\n",
    "csv_file = [file for file in file_list if file.endswith('.csv')][0]\n",
    "df = pd.read_csv(f'Housing_price/{csv_file}')\n",
    "\n",
    "# Display the first few rows to inspect the data\n",
    "print(df.head())\n",
    "\n",
    "#  Initial Data Exploration\n",
    "# Check the basic information and data types of each column\n",
    "print(\"\\nData Types and Non-Null Counts:\\n\")\n",
    "print(df.info())\n",
    "\n",
    "# Check for missing values\n",
    "print(\"\\nMissing Values:\\n\")\n",
    "print(df.isnull().sum())\n",
    "\n",
    "# View basic statistics of numerical columns\n",
    "print(\"\\nSummary Statistics for Numerical Columns:\\n\")\n",
    "print(df.describe())\n",
    "\n",
    "# Display unique values in categorical columns\n",
    "categorical_columns = df.select_dtypes(include='object').columns\n",
    "for col in categorical_columns:\n",
    "    print(f\"\\nUnique values in '{col}':\")\n",
    "    print(df[col].unique())\n",
    "\n",
    "# Check for duplicate rows\n",
    "duplicates = df[df.duplicated()]\n",
    "print(f\"\\nNumber of duplicate rows: {len(duplicates)}\")"
   ]
  },
  {
   "cell_type": "code",
   "execution_count": 21,
   "id": "5a1e7547-6b83-4e97-88f2-c83d2c3f776a",
   "metadata": {},
   "outputs": [],
   "source": [
    "# Data Cleaning and Preprocessing\n",
    "# Drop rows with missing target values (e.g., Price)\n",
    "df.dropna(subset=['Price'], inplace=True)\n",
    "\n",
    "# Fill missing numeric values with median\n",
    "def fill_missing_values(column):\n",
    "    return df[column].median() if df[column].dtype in ['float64', 'int64'] else df[column].mode()[0]\n",
    "df.fillna({col: fill_missing_values(col) for col in df.columns}, inplace=True)\n",
    "\n",
    "# Encode categorical variables\n",
    "df = pd.get_dummies(df, drop_first=True)\n",
    "\n",
    "# Feature Engineering\n",
    "# Remove outliers in the target variable using the 1.5 IQR rule\n",
    "q1 = df['Price'].quantile(0.25)\n",
    "q3 = df['Price'].quantile(0.75)\n",
    "iqr = q3 - q1\n",
    "lower_bound = q1 - 1.5 * iqr\n",
    "upper_bound = q3 + 1.5 * iqr\n",
    "df = df[(df['Price'] >= lower_bound) & (df['Price'] <= upper_bound)]\n",
    "\n",
    "# Log-transform the target variable to reduce skewness\n",
    "df['LogPrice'] = np.log(df['Price'])"
   ]
  },
  {
   "cell_type": "code",
   "execution_count": 9,
   "id": "38ffaffe-2df0-4f9d-8f28-a316ff6efb55",
   "metadata": {},
   "outputs": [
    {
     "name": "stdout",
     "output_type": "stream",
     "text": [
      "\n",
      "Random Forest Model Performance:\n",
      "Mean Absolute Error: 42963.20\n",
      "Mean Squared Error: 2859534734.43\n",
      "R^2 Score: 0.50\n"
     ]
    }
   ],
   "source": [
    "# Model Training\n",
    "# Feature Selection for Predictive Modeling\n",
    "target = 'LogPrice'  # Adjusted to reflect the correct target column\n",
    "features = [col for col in df.columns if col != target and col != 'Price']  # Exclude 'Price' from features\n",
    "X = df[features]\n",
    "y = df[target]\n",
    "\n",
    "X_train, X_test, y_train, y_test = train_test_split(X, y, test_size=0.2, random_state=42)\n",
    "\n",
    "# Train a Random Forest Regressor\n",
    "model = RandomForestRegressor(n_estimators=100, random_state=42)\n",
    "model.fit(X_train, y_train)\n",
    "\n",
    "# Predictions and Evaluation\n",
    "y_pred = model.predict(X_test)\n",
    "y_pred_exp = np.exp(y_pred)  # Inverse log transformation to get the predicted price\n",
    "y_test_exp = np.exp(y_test)  # Inverse log transformation to get the actual price\n",
    "\n",
    "print(\"\\nRandom Forest Model Performance:\")\n",
    "print(f\"Mean Absolute Error: {mean_absolute_error(y_test_exp, y_pred_exp):.2f}\")\n",
    "print(f\"Mean Squared Error: {mean_squared_error(y_test_exp, y_pred_exp):.2f}\")\n",
    "print(f\"R^2 Score: {r2_score(y_test_exp, y_pred_exp):.2f}\")"
   ]
  },
  {
   "cell_type": "markdown",
   "id": "ca4c56c6-f5fb-4325-90a5-9cdc58f9ca2e",
   "metadata": {},
   "source": [
    "### Model Performance\n",
    "\n",
    "- Mean Absolute Error (MAE): The MAE of 42,963.20 indicates that, on average, the model's price predictions are off by about $42,963. This could be useful for understanding how much room there is for improvement in terms of pricing predictions. Lowering this error can lead to better pricing strategies for homes.\n",
    "\n",
    "- Mean Squared Error (MSE): The MSE of 2,859,534,734.43 is quite large, indicating that there are some significant outliers or large deviations in predictions. This could mean that while the model is doing fairly well on average, there are cases where it predicts far off from the actual prices. You might want to investigate outliers in your dataset or try using more sophisticated models like gradient boosting or neural networks to capture complex patterns.\n",
    "\n",
    "- R^2 Score: An R^2 score of 0.50 means that the model explains 50% of the variance in price. This suggests that there’s still a lot of room for improvement, but the model does capture some key relationships between the features and the price. You can use this as a baseline and aim to improve it with better feature engineering, hyperparameter tuning, or other models."
   ]
  },
  {
   "cell_type": "code",
   "execution_count": 10,
   "id": "526dddb9-b88c-4772-90ce-9047e4434a6e",
   "metadata": {},
   "outputs": [
    {
     "name": "stderr",
     "output_type": "stream",
     "text": [
      "C:\\Users\\milto\\AppData\\Local\\Temp\\ipykernel_20272\\3380757662.py:7: FutureWarning: \n",
      "\n",
      "Passing `palette` without assigning `hue` is deprecated and will be removed in v0.14.0. Assign the `y` variable to `hue` and set `legend=False` for the same effect.\n",
      "\n",
      "  sns.barplot(x='Importance', y='Feature', data=feature_importance_df.head(10), palette='viridis')\n"
     ]
    },
    {
     "data": {
      "image/png": "[encoded data removed]",
      "text/plain": [
       "<Figure size 1000x600 with 1 Axes>"
      ]
     },
     "metadata": {},
     "output_type": "display_data"
    }
   ],
   "source": [
    "# Feature Importance\n",
    "importances = model.feature_importances_\n",
    "feature_importance_df = pd.DataFrame({'Feature': X.columns, 'Importance': importances})\n",
    "feature_importance_df = feature_importance_df.sort_values(by='Importance', ascending=False)\n",
    "\n",
    "plt.figure(figsize=(10, 6))\n",
    "sns.barplot(x='Importance', y='Feature', data=feature_importance_df.head(10), palette='viridis')\n",
    "plt.title('Top 10 Feature Importances')\n",
    "plt.show()"
   ]
  },
  {
   "cell_type": "markdown",
   "id": "6f682c07-cad3-420e-8631-1ca27df8a1b3",
   "metadata": {},
   "source": [
    "### Next Steps\n",
    "\n",
    "- Improve Model Accuracy: Consider experimenting with more sophisticated algorithms (e.g., Gradient Boosting, XGBoost) and hyperparameter tuning to improve the performance.\n",
    "\n",
    "- Feature Engineering: Investigate additional features like home age, condition, or local amenities that could improve the model’s accuracy.\n",
    "\n",
    "- Outlier Detection: Explore the large errors in the model and see if better handling of outliers could lead to more accurate predictions."
   ]
  },
  {
   "cell_type": "code",
   "execution_count": null,
   "id": "0c15b0a3-59d6-489c-8802-b8fb1f82addc",
   "metadata": {},
   "outputs": [],
   "source": []
  }
 ],
 "metadata": {
  "kernelspec": {
   "display_name": "Python 3 (ipykernel)",
   "language": "python",
   "name": "python3"
  },
  "language_info": {
   "codemirror_mode": {
    "name": "ipython",
    "version": 3
   },
   "file_extension": ".py",
   "mimetype": "text/x-python",
   "name": "python",
   "nbconvert_exporter": "python",
   "pygments_lexer": "ipython3",
   "version": "3.12.7"
  }
 },
 "nbformat": 4,
 "nbformat_minor": 5
}
